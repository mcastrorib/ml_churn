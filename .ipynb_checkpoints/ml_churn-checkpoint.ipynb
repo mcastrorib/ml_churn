{
 "cells": [
  {
   "cell_type": "markdown",
   "metadata": {},
   "source": [
    "# 0. Import Data"
   ]
  },
  {
   "cell_type": "code",
   "execution_count": 1,
   "metadata": {},
   "outputs": [],
   "source": [
    "import pandas as pd\n",
    "from sklearn.model_selection import train_test_split, cross_val_score, cross_val_predict, GridSearchCV\n",
    "from sklearn.pipeline import Pipeline\n",
    "from sklearn.impute import SimpleImputer\n",
    "from sklearn.preprocessing import OneHotEncoder, StandardScaler\n",
    "from sklearn.compose import ColumnTransformer"
   ]
  },
  {
   "cell_type": "code",
   "execution_count": 38,
   "metadata": {},
   "outputs": [],
   "source": [
    "def display_scores(scores):\n",
    "    print(\"Scores:\",scores)\n",
    "    print(\"Mean:\",scores.mean())\n",
    "    print(\"Std dev:\",scores.std())"
   ]
  },
  {
   "cell_type": "code",
   "execution_count": 2,
   "metadata": {},
   "outputs": [],
   "source": [
    "churn = pd.read_csv('dataset/churn.csv')"
   ]
  },
  {
   "cell_type": "code",
   "execution_count": 3,
   "metadata": {},
   "outputs": [
    {
     "name": "stdout",
     "output_type": "stream",
     "text": [
      "<class 'pandas.core.frame.DataFrame'>\n",
      "RangeIndex: 7044 entries, 0 to 7043\n",
      "Data columns (total 21 columns):\n",
      " #   Column             Non-Null Count  Dtype  \n",
      "---  ------             --------------  -----  \n",
      " 0   Customer ID        7044 non-null   object \n",
      " 1   Gender             7044 non-null   object \n",
      " 2   Senior Citizen     7044 non-null   int64  \n",
      " 3   Partner            7044 non-null   object \n",
      " 4   Dependents         7044 non-null   object \n",
      " 5   tenure             7044 non-null   int64  \n",
      " 6   Phone Service      7044 non-null   object \n",
      " 7   Multiple Lines     7044 non-null   object \n",
      " 8   Internet Service   7044 non-null   object \n",
      " 9   Online Security    7044 non-null   object \n",
      " 10  Online Backup      7044 non-null   object \n",
      " 11  Device Protection  7044 non-null   object \n",
      " 12  Tech Support       7044 non-null   object \n",
      " 13  Streaming TV       7044 non-null   object \n",
      " 14  Streaming Movies   7044 non-null   object \n",
      " 15  Contract           7044 non-null   object \n",
      " 16  Paperless Billing  7044 non-null   object \n",
      " 17  Payment Method     7044 non-null   object \n",
      " 18  Monthly Charges    7044 non-null   float64\n",
      " 19  Total Charges      7033 non-null   float64\n",
      " 20  Churn              7044 non-null   object \n",
      "dtypes: float64(2), int64(2), object(17)\n",
      "memory usage: 1.1+ MB\n"
     ]
    }
   ],
   "source": [
    "churn['Total Charges'] = pd.to_numeric(churn['Total Charges'], errors='coerce')\n",
    "churn.info()"
   ]
  },
  {
   "cell_type": "code",
   "execution_count": 4,
   "metadata": {},
   "outputs": [],
   "source": [
    "X = churn.drop(['Customer ID', 'Churn'], axis=1)\n",
    "y = churn['Churn'].apply(lambda x: 1 if x=='Yes' else 0)"
   ]
  },
  {
   "cell_type": "code",
   "execution_count": 6,
   "metadata": {},
   "outputs": [
    {
     "data": {
      "text/html": [
       "<div>\n",
       "<style scoped>\n",
       "    .dataframe tbody tr th:only-of-type {\n",
       "        vertical-align: middle;\n",
       "    }\n",
       "\n",
       "    .dataframe tbody tr th {\n",
       "        vertical-align: top;\n",
       "    }\n",
       "\n",
       "    .dataframe thead th {\n",
       "        text-align: right;\n",
       "    }\n",
       "</style>\n",
       "<table border=\"1\" class=\"dataframe\">\n",
       "  <thead>\n",
       "    <tr style=\"text-align: right;\">\n",
       "      <th></th>\n",
       "      <th>Gender</th>\n",
       "      <th>Senior Citizen</th>\n",
       "      <th>Partner</th>\n",
       "      <th>Dependents</th>\n",
       "      <th>tenure</th>\n",
       "      <th>Phone Service</th>\n",
       "      <th>Multiple Lines</th>\n",
       "      <th>Internet Service</th>\n",
       "      <th>Online Security</th>\n",
       "      <th>Online Backup</th>\n",
       "      <th>Device Protection</th>\n",
       "      <th>Tech Support</th>\n",
       "      <th>Streaming TV</th>\n",
       "      <th>Streaming Movies</th>\n",
       "      <th>Contract</th>\n",
       "      <th>Paperless Billing</th>\n",
       "      <th>Payment Method</th>\n",
       "    </tr>\n",
       "  </thead>\n",
       "  <tbody>\n",
       "    <tr>\n",
       "      <th>0</th>\n",
       "      <td>Female</td>\n",
       "      <td>0</td>\n",
       "      <td>Yes</td>\n",
       "      <td>No</td>\n",
       "      <td>1</td>\n",
       "      <td>No</td>\n",
       "      <td>No phone service</td>\n",
       "      <td>DSL</td>\n",
       "      <td>No</td>\n",
       "      <td>Yes</td>\n",
       "      <td>No</td>\n",
       "      <td>No</td>\n",
       "      <td>No</td>\n",
       "      <td>No</td>\n",
       "      <td>Month-to-month</td>\n",
       "      <td>Yes</td>\n",
       "      <td>Electronic check</td>\n",
       "    </tr>\n",
       "    <tr>\n",
       "      <th>1</th>\n",
       "      <td>Female</td>\n",
       "      <td>0</td>\n",
       "      <td>Yes</td>\n",
       "      <td>No</td>\n",
       "      <td>1</td>\n",
       "      <td>No</td>\n",
       "      <td>No phone service</td>\n",
       "      <td>DSL</td>\n",
       "      <td>No</td>\n",
       "      <td>Yes</td>\n",
       "      <td>No</td>\n",
       "      <td>No</td>\n",
       "      <td>No</td>\n",
       "      <td>No</td>\n",
       "      <td>Month-to-month</td>\n",
       "      <td>Yes</td>\n",
       "      <td>Electronic check</td>\n",
       "    </tr>\n",
       "    <tr>\n",
       "      <th>2</th>\n",
       "      <td>Male</td>\n",
       "      <td>0</td>\n",
       "      <td>No</td>\n",
       "      <td>No</td>\n",
       "      <td>34</td>\n",
       "      <td>Yes</td>\n",
       "      <td>No</td>\n",
       "      <td>DSL</td>\n",
       "      <td>Yes</td>\n",
       "      <td>No</td>\n",
       "      <td>Yes</td>\n",
       "      <td>No</td>\n",
       "      <td>No</td>\n",
       "      <td>No</td>\n",
       "      <td>One year</td>\n",
       "      <td>No</td>\n",
       "      <td>Mailed check</td>\n",
       "    </tr>\n",
       "    <tr>\n",
       "      <th>3</th>\n",
       "      <td>Male</td>\n",
       "      <td>0</td>\n",
       "      <td>No</td>\n",
       "      <td>No</td>\n",
       "      <td>2</td>\n",
       "      <td>Yes</td>\n",
       "      <td>No</td>\n",
       "      <td>DSL</td>\n",
       "      <td>Yes</td>\n",
       "      <td>Yes</td>\n",
       "      <td>No</td>\n",
       "      <td>No</td>\n",
       "      <td>No</td>\n",
       "      <td>No</td>\n",
       "      <td>Month-to-month</td>\n",
       "      <td>Yes</td>\n",
       "      <td>Mailed check</td>\n",
       "    </tr>\n",
       "    <tr>\n",
       "      <th>4</th>\n",
       "      <td>Male</td>\n",
       "      <td>0</td>\n",
       "      <td>No</td>\n",
       "      <td>No</td>\n",
       "      <td>45</td>\n",
       "      <td>No</td>\n",
       "      <td>No phone service</td>\n",
       "      <td>DSL</td>\n",
       "      <td>Yes</td>\n",
       "      <td>No</td>\n",
       "      <td>Yes</td>\n",
       "      <td>Yes</td>\n",
       "      <td>No</td>\n",
       "      <td>No</td>\n",
       "      <td>One year</td>\n",
       "      <td>No</td>\n",
       "      <td>Bank transfer (automatic)</td>\n",
       "    </tr>\n",
       "  </tbody>\n",
       "</table>\n",
       "</div>"
      ],
      "text/plain": [
       "   Gender  Senior Citizen Partner Dependents  tenure Phone Service  \\\n",
       "0  Female               0     Yes         No       1            No   \n",
       "1  Female               0     Yes         No       1            No   \n",
       "2    Male               0      No         No      34           Yes   \n",
       "3    Male               0      No         No       2           Yes   \n",
       "4    Male               0      No         No      45            No   \n",
       "\n",
       "     Multiple Lines Internet Service Online Security Online Backup  \\\n",
       "0  No phone service              DSL              No           Yes   \n",
       "1  No phone service              DSL              No           Yes   \n",
       "2                No              DSL             Yes            No   \n",
       "3                No              DSL             Yes           Yes   \n",
       "4  No phone service              DSL             Yes            No   \n",
       "\n",
       "  Device Protection Tech Support Streaming TV Streaming Movies  \\\n",
       "0                No           No           No               No   \n",
       "1                No           No           No               No   \n",
       "2               Yes           No           No               No   \n",
       "3                No           No           No               No   \n",
       "4               Yes          Yes           No               No   \n",
       "\n",
       "         Contract Paperless Billing             Payment Method  \n",
       "0  Month-to-month               Yes           Electronic check  \n",
       "1  Month-to-month               Yes           Electronic check  \n",
       "2        One year                No               Mailed check  \n",
       "3  Month-to-month               Yes               Mailed check  \n",
       "4        One year                No  Bank transfer (automatic)  "
      ]
     },
     "execution_count": 6,
     "metadata": {},
     "output_type": "execute_result"
    }
   ],
   "source": [
    "X_cat = X.drop(['Monthly Charges', 'Total Charges'], axis=1)\n",
    "X_cat.head()"
   ]
  },
  {
   "cell_type": "code",
   "execution_count": 7,
   "metadata": {},
   "outputs": [
    {
     "data": {
      "text/html": [
       "<div>\n",
       "<style scoped>\n",
       "    .dataframe tbody tr th:only-of-type {\n",
       "        vertical-align: middle;\n",
       "    }\n",
       "\n",
       "    .dataframe tbody tr th {\n",
       "        vertical-align: top;\n",
       "    }\n",
       "\n",
       "    .dataframe thead th {\n",
       "        text-align: right;\n",
       "    }\n",
       "</style>\n",
       "<table border=\"1\" class=\"dataframe\">\n",
       "  <thead>\n",
       "    <tr style=\"text-align: right;\">\n",
       "      <th></th>\n",
       "      <th>Monthly Charges</th>\n",
       "      <th>Total Charges</th>\n",
       "    </tr>\n",
       "  </thead>\n",
       "  <tbody>\n",
       "    <tr>\n",
       "      <th>0</th>\n",
       "      <td>29.85</td>\n",
       "      <td>29.85</td>\n",
       "    </tr>\n",
       "    <tr>\n",
       "      <th>1</th>\n",
       "      <td>29.85</td>\n",
       "      <td>29.85</td>\n",
       "    </tr>\n",
       "    <tr>\n",
       "      <th>2</th>\n",
       "      <td>56.95</td>\n",
       "      <td>1889.50</td>\n",
       "    </tr>\n",
       "    <tr>\n",
       "      <th>3</th>\n",
       "      <td>53.85</td>\n",
       "      <td>108.15</td>\n",
       "    </tr>\n",
       "    <tr>\n",
       "      <th>4</th>\n",
       "      <td>42.30</td>\n",
       "      <td>1840.75</td>\n",
       "    </tr>\n",
       "  </tbody>\n",
       "</table>\n",
       "</div>"
      ],
      "text/plain": [
       "   Monthly Charges  Total Charges\n",
       "0            29.85          29.85\n",
       "1            29.85          29.85\n",
       "2            56.95        1889.50\n",
       "3            53.85         108.15\n",
       "4            42.30        1840.75"
      ]
     },
     "execution_count": 7,
     "metadata": {},
     "output_type": "execute_result"
    }
   ],
   "source": [
    "X_num = X[['Monthly Charges', 'Total Charges']]\n",
    "X_num.head()"
   ]
  },
  {
   "cell_type": "code",
   "execution_count": 8,
   "metadata": {},
   "outputs": [],
   "source": [
    "num_pipeline = Pipeline([\n",
    "    ('imputer', SimpleImputer(strategy='median')),\n",
    "    ('std_scaler', StandardScaler()),\n",
    "])\n",
    "\n",
    "cat_pipeline = Pipeline([\n",
    "    ('one_hot', OneHotEncoder()),\n",
    "])\n",
    "\n",
    "num_attribs = list(X_num)\n",
    "cat_attribs = list(X_cat)\n",
    "\n",
    "full_pipeline = ColumnTransformer([\n",
    "    (\"num\", num_pipeline, num_attribs),\n",
    "    (\"cat\", cat_pipeline, cat_attribs),\n",
    "])"
   ]
  },
  {
   "cell_type": "code",
   "execution_count": 26,
   "metadata": {},
   "outputs": [
    {
     "data": {
      "text/plain": [
       "matrix([[-1.16012969, -0.99410144,  1.        , ...,  0.        ,\n",
       "          1.        ,  0.        ],\n",
       "        [-1.16012969, -0.99410144,  1.        , ...,  0.        ,\n",
       "          1.        ,  0.        ],\n",
       "        [-0.25945784, -0.17310299,  0.        , ...,  0.        ,\n",
       "          0.        ,  1.        ],\n",
       "        ...,\n",
       "        [-1.16843847, -0.85432884,  1.        , ...,  0.        ,\n",
       "          1.        ,  0.        ],\n",
       "        [ 0.32049506, -0.87192183,  0.        , ...,  0.        ,\n",
       "          0.        ,  1.        ],\n",
       "        [ 1.35909267,  2.01443085,  0.        , ...,  0.        ,\n",
       "          0.        ,  0.        ]])"
      ]
     },
     "execution_count": 26,
     "metadata": {},
     "output_type": "execute_result"
    }
   ],
   "source": [
    "X_prepared = full_pipeline.fit_transform(X)\n",
    "X_prepared = X_prepared.todense()\n",
    "X_prepared"
   ]
  },
  {
   "cell_type": "code",
   "execution_count": 25,
   "metadata": {},
   "outputs": [
    {
     "ename": "NameError",
     "evalue": "name 'df' is not defined",
     "output_type": "error",
     "traceback": [
      "\u001b[0;31m---------------------------------------------------------------------------\u001b[0m",
      "\u001b[0;31mNameError\u001b[0m                                 Traceback (most recent call last)",
      "\u001b[0;32m<ipython-input-25-786db52cbd92>\u001b[0m in \u001b[0;36m<module>\u001b[0;34m\u001b[0m\n\u001b[0;32m----> 1\u001b[0;31m \u001b[0mX\u001b[0m \u001b[0;34m=\u001b[0m \u001b[0mpd\u001b[0m\u001b[0;34m.\u001b[0m\u001b[0mget_dummies\u001b[0m\u001b[0;34m(\u001b[0m\u001b[0mdf\u001b[0m\u001b[0;34m.\u001b[0m\u001b[0mdrop\u001b[0m\u001b[0;34m(\u001b[0m\u001b[0;34m[\u001b[0m\u001b[0;34m'Churn'\u001b[0m\u001b[0;34m,\u001b[0m \u001b[0;34m'Customer ID'\u001b[0m\u001b[0;34m]\u001b[0m\u001b[0;34m,\u001b[0m \u001b[0maxis\u001b[0m\u001b[0;34m=\u001b[0m\u001b[0;36m1\u001b[0m\u001b[0;34m)\u001b[0m\u001b[0;34m)\u001b[0m\u001b[0;34m\u001b[0m\u001b[0;34m\u001b[0m\u001b[0m\n\u001b[0m\u001b[1;32m      2\u001b[0m \u001b[0my\u001b[0m \u001b[0;34m=\u001b[0m \u001b[0mdf\u001b[0m\u001b[0;34m[\u001b[0m\u001b[0;34m'Churn'\u001b[0m\u001b[0;34m]\u001b[0m\u001b[0;34m.\u001b[0m\u001b[0mapply\u001b[0m\u001b[0;34m(\u001b[0m\u001b[0;32mlambda\u001b[0m \u001b[0mx\u001b[0m\u001b[0;34m:\u001b[0m \u001b[0;36m1\u001b[0m \u001b[0;32mif\u001b[0m \u001b[0mx\u001b[0m\u001b[0;34m==\u001b[0m\u001b[0;34m'Yes'\u001b[0m \u001b[0;32melse\u001b[0m \u001b[0;36m0\u001b[0m\u001b[0;34m)\u001b[0m\u001b[0;34m\u001b[0m\u001b[0;34m\u001b[0m\u001b[0m\n",
      "\u001b[0;31mNameError\u001b[0m: name 'df' is not defined"
     ]
    }
   ],
   "source": [
    "X = pd.get_dummies(df.drop(['Churn', 'Customer ID'], axis=1))\n",
    "y = df['Churn'].apply(lambda x: 1 if x=='Yes' else 0)"
   ]
  },
  {
   "cell_type": "code",
   "execution_count": 27,
   "metadata": {},
   "outputs": [],
   "source": [
    "X_train, X_test, y_train, y_test = train_test_split(X_prepared, y, test_size=.2)"
   ]
  },
  {
   "cell_type": "code",
   "execution_count": 28,
   "metadata": {},
   "outputs": [
    {
     "data": {
      "text/plain": [
       "(5635, 118)"
      ]
     },
     "execution_count": 28,
     "metadata": {},
     "output_type": "execute_result"
    }
   ],
   "source": [
    "X_train.shape"
   ]
  },
  {
   "cell_type": "code",
   "execution_count": 29,
   "metadata": {},
   "outputs": [
    {
     "data": {
      "text/plain": [
       "1942    0\n",
       "6212    1\n",
       "5119    0\n",
       "2306    0\n",
       "1584    0\n",
       "       ..\n",
       "912     0\n",
       "1868    1\n",
       "2785    1\n",
       "4068    0\n",
       "5657    0\n",
       "Name: Churn, Length: 5635, dtype: int64"
      ]
     },
     "execution_count": 29,
     "metadata": {},
     "output_type": "execute_result"
    }
   ],
   "source": [
    "y_train"
   ]
  },
  {
   "cell_type": "markdown",
   "metadata": {},
   "source": [
    "# ML model"
   ]
  },
  {
   "cell_type": "code",
   "execution_count": 36,
   "metadata": {},
   "outputs": [],
   "source": [
    "from sklearn.linear_model import SGDClassifier\n",
    "from sklearn.naive_bayes import GaussianNB\n",
    "from sklearn.neighbors import KNeighborsClassifier\n",
    "from sklearn.tree import DecisionTreeClassifier\n",
    "from sklearn.svm import SVC\n",
    "from sklearn.ensemble import RandomForestClassifier"
   ]
  },
  {
   "cell_type": "code",
   "execution_count": 39,
   "metadata": {},
   "outputs": [
    {
     "ename": "NameError",
     "evalue": "name 'cross_val_score' is not defined",
     "output_type": "error",
     "traceback": [
      "\u001b[0;31m---------------------------------------------------------------------------\u001b[0m",
      "\u001b[0;31mNameError\u001b[0m                                 Traceback (most recent call last)",
      "\u001b[0;32m<ipython-input-39-dc1e3b1f5b92>\u001b[0m in \u001b[0;36m<module>\u001b[0;34m\u001b[0m\n\u001b[0;32m----> 1\u001b[0;31m sgd_scores = cross_val_score(\n\u001b[0m\u001b[1;32m      2\u001b[0m     \u001b[0mSGDClassifier\u001b[0m\u001b[0;34m(\u001b[0m\u001b[0mpenalty\u001b[0m\u001b[0;34m=\u001b[0m\u001b[0;34m'l1'\u001b[0m\u001b[0;34m,\u001b[0m\u001b[0malpha\u001b[0m\u001b[0;34m=\u001b[0m\u001b[0;36m0.01\u001b[0m\u001b[0;34m,\u001b[0m\u001b[0mrandom_state\u001b[0m\u001b[0;34m=\u001b[0m\u001b[0;36m42\u001b[0m\u001b[0;34m,\u001b[0m\u001b[0mn_jobs\u001b[0m\u001b[0;34m=\u001b[0m\u001b[0;34m-\u001b[0m\u001b[0;36m1\u001b[0m\u001b[0;34m)\u001b[0m\u001b[0;34m,\u001b[0m\u001b[0;34m\u001b[0m\u001b[0;34m\u001b[0m\u001b[0m\n\u001b[1;32m      3\u001b[0m     \u001b[0mX_train\u001b[0m\u001b[0;34m,\u001b[0m\u001b[0;34m\u001b[0m\u001b[0;34m\u001b[0m\u001b[0m\n\u001b[1;32m      4\u001b[0m     \u001b[0my_train\u001b[0m\u001b[0;34m,\u001b[0m\u001b[0;34m\u001b[0m\u001b[0;34m\u001b[0m\u001b[0m\n\u001b[1;32m      5\u001b[0m     \u001b[0mscoring\u001b[0m \u001b[0;34m=\u001b[0m \u001b[0;34m\"accuracy\"\u001b[0m\u001b[0;34m,\u001b[0m\u001b[0;34m\u001b[0m\u001b[0;34m\u001b[0m\u001b[0m\n",
      "\u001b[0;31mNameError\u001b[0m: name 'cross_val_score' is not defined"
     ]
    }
   ],
   "source": [
    "sgd_scores = cross_val_score(\n",
    "    SGDClassifier(penalty='l1',alpha=0.01,random_state=42,n_jobs=-1),\n",
    "    X_train,\n",
    "    y_train,\n",
    "    scoring = \"accuracy\",\n",
    "    cv=3\n",
    ")\n",
    "display_scores(sgd_scores)"
   ]
  },
  {
   "cell_type": "code",
   "execution_count": null,
   "metadata": {},
   "outputs": [],
   "source": [
    "sgd_clf"
   ]
  },
  {
   "cell_type": "code",
   "execution_count": null,
   "metadata": {},
   "outputs": [],
   "source": []
  },
  {
   "cell_type": "markdown",
   "metadata": {},
   "source": [
    "# 1. Import Dependencies"
   ]
  },
  {
   "cell_type": "code",
   "execution_count": 30,
   "metadata": {},
   "outputs": [],
   "source": [
    "from tensorflow.keras.models import Sequential, load_model\n",
    "from tensorflow.keras.layers import Dense\n",
    "from sklearn.metrics import accuracy_score"
   ]
  },
  {
   "cell_type": "markdown",
   "metadata": {},
   "source": [
    "# 2. Build and Compile Model"
   ]
  },
  {
   "cell_type": "code",
   "execution_count": 31,
   "metadata": {},
   "outputs": [],
   "source": [
    "model = Sequential()\n",
    "model.add(Dense(units=32, activation='relu', input_dim=X_train.shape[1]))\n",
    "model.add(Dense(units=64, activation='relu'))\n",
    "model.add(Dense(units=1, activation='sigmoid'))"
   ]
  },
  {
   "cell_type": "code",
   "execution_count": 32,
   "metadata": {},
   "outputs": [],
   "source": [
    "model.compile(loss='binary_crossentropy', optimizer='sgd', metrics='accuracy')"
   ]
  },
  {
   "cell_type": "markdown",
   "metadata": {},
   "source": [
    "# 3. Fit, Predict and Evaluate"
   ]
  },
  {
   "cell_type": "code",
   "execution_count": 33,
   "metadata": {},
   "outputs": [
    {
     "name": "stdout",
     "output_type": "stream",
     "text": [
      "Epoch 1/200\n",
      "177/177 [==============================] - 2s 4ms/step - loss: 0.6293 - accuracy: 0.6524\n",
      "Epoch 2/200\n",
      "177/177 [==============================] - 1s 4ms/step - loss: 0.5259 - accuracy: 0.7374\n",
      "Epoch 3/200\n",
      "177/177 [==============================] - 1s 4ms/step - loss: 0.4754 - accuracy: 0.7689\n",
      "Epoch 4/200\n",
      "177/177 [==============================] - 1s 4ms/step - loss: 0.4510 - accuracy: 0.7847\n",
      "Epoch 5/200\n",
      "177/177 [==============================] - 1s 4ms/step - loss: 0.4413 - accuracy: 0.7894\n",
      "Epoch 6/200\n",
      "177/177 [==============================] - 1s 4ms/step - loss: 0.4372 - accuracy: 0.7918\n",
      "Epoch 7/200\n",
      "177/177 [==============================] - 1s 5ms/step - loss: 0.4334 - accuracy: 0.7934\n",
      "Epoch 8/200\n",
      "177/177 [==============================] - 1s 4ms/step - loss: 0.4313 - accuracy: 0.7965\n",
      "Epoch 9/200\n",
      "177/177 [==============================] - 1s 5ms/step - loss: 0.4293 - accuracy: 0.7954\n",
      "Epoch 10/200\n",
      "177/177 [==============================] - 1s 4ms/step - loss: 0.4273 - accuracy: 0.7980\n",
      "Epoch 11/200\n",
      "177/177 [==============================] - 1s 4ms/step - loss: 0.4256 - accuracy: 0.7986\n",
      "Epoch 12/200\n",
      "177/177 [==============================] - 1s 5ms/step - loss: 0.4240 - accuracy: 0.7991\n",
      "Epoch 13/200\n",
      "177/177 [==============================] - 1s 4ms/step - loss: 0.4223 - accuracy: 0.8004\n",
      "Epoch 14/200\n",
      "177/177 [==============================] - 1s 4ms/step - loss: 0.4213 - accuracy: 0.7996\n",
      "Epoch 15/200\n",
      "177/177 [==============================] - 1s 5ms/step - loss: 0.4198 - accuracy: 0.8023\n",
      "Epoch 16/200\n",
      "177/177 [==============================] - 1s 7ms/step - loss: 0.4189 - accuracy: 0.8034\n",
      "Epoch 17/200\n",
      "177/177 [==============================] - 2s 9ms/step - loss: 0.4179 - accuracy: 0.8025\n",
      "Epoch 18/200\n",
      "177/177 [==============================] - 1s 6ms/step - loss: 0.4169 - accuracy: 0.8044\n",
      "Epoch 19/200\n",
      "177/177 [==============================] - 1s 4ms/step - loss: 0.4160 - accuracy: 0.8021\n",
      "Epoch 20/200\n",
      "177/177 [==============================] - 1s 5ms/step - loss: 0.4151 - accuracy: 0.8035\n",
      "Epoch 21/200\n",
      "177/177 [==============================] - 1s 4ms/step - loss: 0.4144 - accuracy: 0.8037\n",
      "Epoch 22/200\n",
      "177/177 [==============================] - 1s 4ms/step - loss: 0.4137 - accuracy: 0.8027\n",
      "Epoch 23/200\n",
      "177/177 [==============================] - 1s 4ms/step - loss: 0.4127 - accuracy: 0.8028\n",
      "Epoch 24/200\n",
      "177/177 [==============================] - 1s 4ms/step - loss: 0.4119 - accuracy: 0.8028\n",
      "Epoch 25/200\n",
      "177/177 [==============================] - 1s 4ms/step - loss: 0.4116 - accuracy: 0.8051\n",
      "Epoch 26/200\n",
      "177/177 [==============================] - 1s 4ms/step - loss: 0.4108 - accuracy: 0.8043\n",
      "Epoch 27/200\n",
      "177/177 [==============================] - 1s 4ms/step - loss: 0.4103 - accuracy: 0.8057\n",
      "Epoch 28/200\n",
      "177/177 [==============================] - 1s 4ms/step - loss: 0.4094 - accuracy: 0.8053\n",
      "Epoch 29/200\n",
      "177/177 [==============================] - 1s 4ms/step - loss: 0.4093 - accuracy: 0.8044\n",
      "Epoch 30/200\n",
      "177/177 [==============================] - 1s 4ms/step - loss: 0.4087 - accuracy: 0.8027\n",
      "Epoch 31/200\n",
      "177/177 [==============================] - 1s 4ms/step - loss: 0.4084 - accuracy: 0.8055\n",
      "Epoch 32/200\n",
      "177/177 [==============================] - 1s 4ms/step - loss: 0.4081 - accuracy: 0.8044\n",
      "Epoch 33/200\n",
      "177/177 [==============================] - 1s 4ms/step - loss: 0.4074 - accuracy: 0.8048\n",
      "Epoch 34/200\n",
      "177/177 [==============================] - 1s 5ms/step - loss: 0.4072 - accuracy: 0.8032\n",
      "Epoch 35/200\n",
      "177/177 [==============================] - 1s 6ms/step - loss: 0.4063 - accuracy: 0.8064\n",
      "Epoch 36/200\n",
      "177/177 [==============================] - 1s 6ms/step - loss: 0.4062 - accuracy: 0.8060\n",
      "Epoch 37/200\n",
      "177/177 [==============================] - 1s 4ms/step - loss: 0.4060 - accuracy: 0.8051\n",
      "Epoch 38/200\n",
      "177/177 [==============================] - 1s 4ms/step - loss: 0.4058 - accuracy: 0.8082\n",
      "Epoch 39/200\n",
      "177/177 [==============================] - 1s 5ms/step - loss: 0.4052 - accuracy: 0.8046\n",
      "Epoch 40/200\n",
      "177/177 [==============================] - 1s 4ms/step - loss: 0.4048 - accuracy: 0.8071\n",
      "Epoch 41/200\n",
      "177/177 [==============================] - 1s 4ms/step - loss: 0.4047 - accuracy: 0.8062\n",
      "Epoch 42/200\n",
      "177/177 [==============================] - 1s 4ms/step - loss: 0.4038 - accuracy: 0.8073\n",
      "Epoch 43/200\n",
      "177/177 [==============================] - 1s 4ms/step - loss: 0.4039 - accuracy: 0.8083\n",
      "Epoch 44/200\n",
      "177/177 [==============================] - 1s 5ms/step - loss: 0.4036 - accuracy: 0.8069\n",
      "Epoch 45/200\n",
      "177/177 [==============================] - 1s 4ms/step - loss: 0.4034 - accuracy: 0.8055\n",
      "Epoch 46/200\n",
      "177/177 [==============================] - 1s 5ms/step - loss: 0.4031 - accuracy: 0.8066\n",
      "Epoch 47/200\n",
      "177/177 [==============================] - 1s 6ms/step - loss: 0.4025 - accuracy: 0.8067\n",
      "Epoch 48/200\n",
      "177/177 [==============================] - 1s 5ms/step - loss: 0.4024 - accuracy: 0.8069\n",
      "Epoch 49/200\n",
      "177/177 [==============================] - 1s 5ms/step - loss: 0.4020 - accuracy: 0.8067\n",
      "Epoch 50/200\n",
      "177/177 [==============================] - 1s 4ms/step - loss: 0.4017 - accuracy: 0.8067\n",
      "Epoch 51/200\n",
      "177/177 [==============================] - 1s 4ms/step - loss: 0.4011 - accuracy: 0.8083\n",
      "Epoch 52/200\n",
      "177/177 [==============================] - 1s 4ms/step - loss: 0.4015 - accuracy: 0.8064\n",
      "Epoch 53/200\n",
      "177/177 [==============================] - 1s 4ms/step - loss: 0.4008 - accuracy: 0.8098\n",
      "Epoch 54/200\n",
      "177/177 [==============================] - 1s 6ms/step - loss: 0.4005 - accuracy: 0.8098\n",
      "Epoch 55/200\n",
      "177/177 [==============================] - 1s 6ms/step - loss: 0.4003 - accuracy: 0.8092\n",
      "Epoch 56/200\n",
      "177/177 [==============================] - 1s 6ms/step - loss: 0.3999 - accuracy: 0.8091\n",
      "Epoch 57/200\n",
      "177/177 [==============================] - 1s 5ms/step - loss: 0.4000 - accuracy: 0.8085\n",
      "Epoch 58/200\n",
      "177/177 [==============================] - 1s 4ms/step - loss: 0.3994 - accuracy: 0.8110\n",
      "Epoch 59/200\n",
      "177/177 [==============================] - 1s 5ms/step - loss: 0.3991 - accuracy: 0.8069\n",
      "Epoch 60/200\n",
      "177/177 [==============================] - 1s 4ms/step - loss: 0.3987 - accuracy: 0.8099\n",
      "Epoch 61/200\n",
      "177/177 [==============================] - 1s 5ms/step - loss: 0.3986 - accuracy: 0.8087\n",
      "Epoch 62/200\n",
      "177/177 [==============================] - 1s 5ms/step - loss: 0.3979 - accuracy: 0.8094\n",
      "Epoch 63/200\n",
      "177/177 [==============================] - 1s 5ms/step - loss: 0.3982 - accuracy: 0.8099\n",
      "Epoch 64/200\n",
      "177/177 [==============================] - 1s 4ms/step - loss: 0.3980 - accuracy: 0.8098\n",
      "Epoch 65/200\n",
      "177/177 [==============================] - 1s 4ms/step - loss: 0.3975 - accuracy: 0.8112\n",
      "Epoch 66/200\n",
      "177/177 [==============================] - 1s 4ms/step - loss: 0.3975 - accuracy: 0.8092\n",
      "Epoch 67/200\n",
      "177/177 [==============================] - 1s 5ms/step - loss: 0.3972 - accuracy: 0.8096\n",
      "Epoch 68/200\n",
      "177/177 [==============================] - 1s 5ms/step - loss: 0.3967 - accuracy: 0.8114\n",
      "Epoch 69/200\n",
      "177/177 [==============================] - 1s 5ms/step - loss: 0.3966 - accuracy: 0.8114\n",
      "Epoch 70/200\n",
      "177/177 [==============================] - 1s 4ms/step - loss: 0.3963 - accuracy: 0.8133\n",
      "Epoch 71/200\n",
      "177/177 [==============================] - 1s 5ms/step - loss: 0.3961 - accuracy: 0.8110\n",
      "Epoch 72/200\n",
      "177/177 [==============================] - 1s 4ms/step - loss: 0.3958 - accuracy: 0.8117\n",
      "Epoch 73/200\n",
      "177/177 [==============================] - 1s 4ms/step - loss: 0.3955 - accuracy: 0.8108\n",
      "Epoch 74/200\n",
      "177/177 [==============================] - 1s 5ms/step - loss: 0.3958 - accuracy: 0.8110\n",
      "Epoch 75/200\n",
      "177/177 [==============================] - 1s 5ms/step - loss: 0.3954 - accuracy: 0.8128\n",
      "Epoch 76/200\n",
      "177/177 [==============================] - 1s 8ms/step - loss: 0.3951 - accuracy: 0.8105\n",
      "Epoch 77/200\n",
      "177/177 [==============================] - 1s 4ms/step - loss: 0.3948 - accuracy: 0.8117\n",
      "Epoch 78/200\n",
      "177/177 [==============================] - 1s 6ms/step - loss: 0.3945 - accuracy: 0.8126\n",
      "Epoch 79/200\n",
      "177/177 [==============================] - 1s 5ms/step - loss: 0.3940 - accuracy: 0.8151\n",
      "Epoch 80/200\n",
      "177/177 [==============================] - 1s 6ms/step - loss: 0.3939 - accuracy: 0.8138\n",
      "Epoch 81/200\n"
     ]
    },
    {
     "name": "stdout",
     "output_type": "stream",
     "text": [
      "177/177 [==============================] - 1s 5ms/step - loss: 0.3939 - accuracy: 0.8128\n",
      "Epoch 82/200\n",
      "177/177 [==============================] - 1s 5ms/step - loss: 0.3935 - accuracy: 0.8144\n",
      "Epoch 83/200\n",
      "177/177 [==============================] - 1s 4ms/step - loss: 0.3934 - accuracy: 0.8161\n",
      "Epoch 84/200\n",
      "177/177 [==============================] - 1s 5ms/step - loss: 0.3928 - accuracy: 0.8135\n",
      "Epoch 85/200\n",
      "177/177 [==============================] - 1s 4ms/step - loss: 0.3929 - accuracy: 0.8117\n",
      "Epoch 86/200\n",
      "177/177 [==============================] - 1s 4ms/step - loss: 0.3926 - accuracy: 0.8135\n",
      "Epoch 87/200\n",
      "177/177 [==============================] - 1s 4ms/step - loss: 0.3926 - accuracy: 0.8130\n",
      "Epoch 88/200\n",
      "177/177 [==============================] - 1s 4ms/step - loss: 0.3922 - accuracy: 0.8151\n",
      "Epoch 89/200\n",
      "177/177 [==============================] - 1s 4ms/step - loss: 0.3917 - accuracy: 0.8154\n",
      "Epoch 90/200\n",
      "177/177 [==============================] - 1s 4ms/step - loss: 0.3915 - accuracy: 0.8147\n",
      "Epoch 91/200\n",
      "177/177 [==============================] - 1s 4ms/step - loss: 0.3912 - accuracy: 0.8179\n",
      "Epoch 92/200\n",
      "177/177 [==============================] - 1s 4ms/step - loss: 0.3914 - accuracy: 0.8119\n",
      "Epoch 93/200\n",
      "177/177 [==============================] - 1s 5ms/step - loss: 0.3908 - accuracy: 0.8154\n",
      "Epoch 94/200\n",
      "177/177 [==============================] - 1s 4ms/step - loss: 0.3904 - accuracy: 0.8156\n",
      "Epoch 95/200\n",
      "177/177 [==============================] - 1s 4ms/step - loss: 0.3902 - accuracy: 0.8167\n",
      "Epoch 96/200\n",
      "177/177 [==============================] - 1s 4ms/step - loss: 0.3900 - accuracy: 0.8144\n",
      "Epoch 97/200\n",
      "177/177 [==============================] - 1s 4ms/step - loss: 0.3900 - accuracy: 0.8135\n",
      "Epoch 98/200\n",
      "177/177 [==============================] - 1s 4ms/step - loss: 0.3900 - accuracy: 0.8142\n",
      "Epoch 99/200\n",
      "177/177 [==============================] - 1s 4ms/step - loss: 0.3896 - accuracy: 0.8161\n",
      "Epoch 100/200\n",
      "177/177 [==============================] - 1s 4ms/step - loss: 0.3895 - accuracy: 0.8158\n",
      "Epoch 101/200\n",
      "177/177 [==============================] - 1s 4ms/step - loss: 0.3891 - accuracy: 0.8149\n",
      "Epoch 102/200\n",
      "177/177 [==============================] - 1s 4ms/step - loss: 0.3891 - accuracy: 0.8165\n",
      "Epoch 103/200\n",
      "177/177 [==============================] - 1s 4ms/step - loss: 0.3885 - accuracy: 0.8153\n",
      "Epoch 104/200\n",
      "177/177 [==============================] - 1s 4ms/step - loss: 0.3881 - accuracy: 0.8151\n",
      "Epoch 105/200\n",
      "177/177 [==============================] - 1s 5ms/step - loss: 0.3880 - accuracy: 0.8165\n",
      "Epoch 106/200\n",
      "177/177 [==============================] - 1s 5ms/step - loss: 0.3875 - accuracy: 0.8156\n",
      "Epoch 107/200\n",
      "177/177 [==============================] - 1s 4ms/step - loss: 0.3877 - accuracy: 0.8183\n",
      "Epoch 108/200\n",
      "177/177 [==============================] - 1s 5ms/step - loss: 0.3875 - accuracy: 0.8158\n",
      "Epoch 109/200\n",
      "177/177 [==============================] - 1s 4ms/step - loss: 0.3872 - accuracy: 0.8153\n",
      "Epoch 110/200\n",
      "177/177 [==============================] - 1s 4ms/step - loss: 0.3867 - accuracy: 0.8185\n",
      "Epoch 111/200\n",
      "177/177 [==============================] - 1s 4ms/step - loss: 0.3867 - accuracy: 0.8176\n",
      "Epoch 112/200\n",
      "177/177 [==============================] - 1s 4ms/step - loss: 0.3863 - accuracy: 0.8169\n",
      "Epoch 113/200\n",
      "177/177 [==============================] - 1s 4ms/step - loss: 0.3859 - accuracy: 0.8170\n",
      "Epoch 114/200\n",
      "177/177 [==============================] - 1s 4ms/step - loss: 0.3855 - accuracy: 0.8170\n",
      "Epoch 115/200\n",
      "177/177 [==============================] - 1s 4ms/step - loss: 0.3856 - accuracy: 0.8181\n",
      "Epoch 116/200\n",
      "177/177 [==============================] - 1s 4ms/step - loss: 0.3851 - accuracy: 0.8195\n",
      "Epoch 117/200\n",
      "177/177 [==============================] - 1s 4ms/step - loss: 0.3850 - accuracy: 0.8165\n",
      "Epoch 118/200\n",
      "177/177 [==============================] - 1s 4ms/step - loss: 0.3849 - accuracy: 0.8218\n",
      "Epoch 119/200\n",
      "177/177 [==============================] - 1s 4ms/step - loss: 0.3845 - accuracy: 0.8192\n",
      "Epoch 120/200\n",
      "177/177 [==============================] - 1s 4ms/step - loss: 0.3842 - accuracy: 0.8176\n",
      "Epoch 121/200\n",
      "177/177 [==============================] - 1s 4ms/step - loss: 0.3843 - accuracy: 0.8158\n",
      "Epoch 122/200\n",
      "177/177 [==============================] - 1s 4ms/step - loss: 0.3839 - accuracy: 0.8193\n",
      "Epoch 123/200\n",
      "177/177 [==============================] - 1s 5ms/step - loss: 0.3834 - accuracy: 0.8193\n",
      "Epoch 124/200\n",
      "177/177 [==============================] - 1s 4ms/step - loss: 0.3830 - accuracy: 0.8183\n",
      "Epoch 125/200\n",
      "177/177 [==============================] - 1s 4ms/step - loss: 0.3830 - accuracy: 0.8193\n",
      "Epoch 126/200\n",
      "177/177 [==============================] - 1s 4ms/step - loss: 0.3829 - accuracy: 0.8190\n",
      "Epoch 127/200\n",
      "177/177 [==============================] - 1s 4ms/step - loss: 0.3818 - accuracy: 0.8213\n",
      "Epoch 128/200\n",
      "177/177 [==============================] - 1s 4ms/step - loss: 0.3820 - accuracy: 0.8209\n",
      "Epoch 129/200\n",
      "177/177 [==============================] - 1s 4ms/step - loss: 0.3819 - accuracy: 0.8224\n",
      "Epoch 130/200\n",
      "177/177 [==============================] - 1s 4ms/step - loss: 0.3819 - accuracy: 0.8174\n",
      "Epoch 131/200\n",
      "177/177 [==============================] - 1s 4ms/step - loss: 0.3814 - accuracy: 0.8201\n",
      "Epoch 132/200\n",
      "177/177 [==============================] - 1s 4ms/step - loss: 0.3812 - accuracy: 0.8220\n",
      "Epoch 133/200\n",
      "177/177 [==============================] - 1s 4ms/step - loss: 0.3806 - accuracy: 0.8208\n",
      "Epoch 134/200\n",
      "177/177 [==============================] - 1s 5ms/step - loss: 0.3806 - accuracy: 0.8218\n",
      "Epoch 135/200\n",
      "177/177 [==============================] - 1s 4ms/step - loss: 0.3802 - accuracy: 0.8209\n",
      "Epoch 136/200\n",
      "177/177 [==============================] - 1s 4ms/step - loss: 0.3799 - accuracy: 0.8224\n",
      "Epoch 137/200\n",
      "177/177 [==============================] - 1s 4ms/step - loss: 0.3797 - accuracy: 0.8192\n",
      "Epoch 138/200\n",
      "177/177 [==============================] - 1s 5ms/step - loss: 0.3796 - accuracy: 0.8218\n",
      "Epoch 139/200\n",
      "177/177 [==============================] - 1s 4ms/step - loss: 0.3792 - accuracy: 0.8208\n",
      "Epoch 140/200\n",
      "177/177 [==============================] - 1s 4ms/step - loss: 0.3793 - accuracy: 0.8211\n",
      "Epoch 141/200\n",
      "177/177 [==============================] - 1s 4ms/step - loss: 0.3795 - accuracy: 0.8181\n",
      "Epoch 142/200\n",
      "177/177 [==============================] - 1s 4ms/step - loss: 0.3785 - accuracy: 0.8199\n",
      "Epoch 143/200\n",
      "177/177 [==============================] - 1s 4ms/step - loss: 0.3781 - accuracy: 0.8206\n",
      "Epoch 144/200\n",
      "177/177 [==============================] - 1s 4ms/step - loss: 0.3778 - accuracy: 0.8193\n",
      "Epoch 145/200\n",
      "177/177 [==============================] - 1s 4ms/step - loss: 0.3771 - accuracy: 0.8254\n",
      "Epoch 146/200\n",
      "177/177 [==============================] - 1s 4ms/step - loss: 0.3769 - accuracy: 0.8218\n",
      "Epoch 147/200\n",
      "177/177 [==============================] - 1s 6ms/step - loss: 0.3770 - accuracy: 0.8206\n",
      "Epoch 148/200\n",
      "177/177 [==============================] - 1s 7ms/step - loss: 0.3766 - accuracy: 0.8215\n",
      "Epoch 149/200\n",
      "177/177 [==============================] - 1s 7ms/step - loss: 0.3765 - accuracy: 0.8190\n",
      "Epoch 150/200\n",
      "177/177 [==============================] - 1s 5ms/step - loss: 0.3762 - accuracy: 0.8209\n",
      "Epoch 151/200\n",
      "177/177 [==============================] - 1s 5ms/step - loss: 0.3756 - accuracy: 0.8220\n",
      "Epoch 152/200\n",
      "177/177 [==============================] - 1s 7ms/step - loss: 0.3754 - accuracy: 0.8236\n",
      "Epoch 153/200\n",
      "177/177 [==============================] - 1s 4ms/step - loss: 0.3754 - accuracy: 0.8220\n",
      "Epoch 154/200\n",
      "177/177 [==============================] - 1s 5ms/step - loss: 0.3752 - accuracy: 0.8227\n",
      "Epoch 155/200\n",
      "177/177 [==============================] - 1s 4ms/step - loss: 0.3751 - accuracy: 0.8232\n",
      "Epoch 156/200\n",
      "177/177 [==============================] - 1s 4ms/step - loss: 0.3745 - accuracy: 0.8227\n",
      "Epoch 157/200\n",
      "177/177 [==============================] - 1s 4ms/step - loss: 0.3745 - accuracy: 0.8238\n",
      "Epoch 158/200\n",
      "177/177 [==============================] - 1s 5ms/step - loss: 0.3739 - accuracy: 0.8227\n",
      "Epoch 159/200\n",
      "177/177 [==============================] - 1s 5ms/step - loss: 0.3736 - accuracy: 0.8241\n",
      "Epoch 160/200\n"
     ]
    },
    {
     "name": "stdout",
     "output_type": "stream",
     "text": [
      "177/177 [==============================] - 1s 4ms/step - loss: 0.3738 - accuracy: 0.8250\n",
      "Epoch 161/200\n",
      "177/177 [==============================] - 1s 4ms/step - loss: 0.3729 - accuracy: 0.8236\n",
      "Epoch 162/200\n",
      "177/177 [==============================] - 1s 6ms/step - loss: 0.3733 - accuracy: 0.8211\n",
      "Epoch 163/200\n",
      "177/177 [==============================] - 1s 5ms/step - loss: 0.3725 - accuracy: 0.8197\n",
      "Epoch 164/200\n",
      "177/177 [==============================] - 1s 4ms/step - loss: 0.3724 - accuracy: 0.8229\n",
      "Epoch 165/200\n",
      "177/177 [==============================] - 1s 5ms/step - loss: 0.3720 - accuracy: 0.8231\n",
      "Epoch 166/200\n",
      "177/177 [==============================] - 1s 4ms/step - loss: 0.3704 - accuracy: 0.8243\n",
      "Epoch 167/200\n",
      "177/177 [==============================] - 1s 5ms/step - loss: 0.3712 - accuracy: 0.8243\n",
      "Epoch 168/200\n",
      "177/177 [==============================] - 1s 4ms/step - loss: 0.3720 - accuracy: 0.8240\n",
      "Epoch 169/200\n",
      "177/177 [==============================] - 1s 5ms/step - loss: 0.3707 - accuracy: 0.8241\n",
      "Epoch 170/200\n",
      "177/177 [==============================] - 1s 5ms/step - loss: 0.3708 - accuracy: 0.8234\n",
      "Epoch 171/200\n",
      "177/177 [==============================] - 1s 5ms/step - loss: 0.3707 - accuracy: 0.8240\n",
      "Epoch 172/200\n",
      "177/177 [==============================] - 1s 5ms/step - loss: 0.3709 - accuracy: 0.8238\n",
      "Epoch 173/200\n",
      "177/177 [==============================] - 1s 5ms/step - loss: 0.3698 - accuracy: 0.8243\n",
      "Epoch 174/200\n",
      "177/177 [==============================] - 1s 5ms/step - loss: 0.3692 - accuracy: 0.8263\n",
      "Epoch 175/200\n",
      "177/177 [==============================] - 1s 5ms/step - loss: 0.3693 - accuracy: 0.8240\n",
      "Epoch 176/200\n",
      "177/177 [==============================] - 1s 5ms/step - loss: 0.3689 - accuracy: 0.8270\n",
      "Epoch 177/200\n",
      "177/177 [==============================] - 1s 5ms/step - loss: 0.3682 - accuracy: 0.8266\n",
      "Epoch 178/200\n",
      "177/177 [==============================] - 1s 5ms/step - loss: 0.3686 - accuracy: 0.8245\n",
      "Epoch 179/200\n",
      "177/177 [==============================] - 1s 5ms/step - loss: 0.3680 - accuracy: 0.8263\n",
      "Epoch 180/200\n",
      "177/177 [==============================] - 1s 5ms/step - loss: 0.3673 - accuracy: 0.8259\n",
      "Epoch 181/200\n",
      "177/177 [==============================] - 1s 5ms/step - loss: 0.3674 - accuracy: 0.8272\n",
      "Epoch 182/200\n",
      "177/177 [==============================] - 1s 5ms/step - loss: 0.3670 - accuracy: 0.8272\n",
      "Epoch 183/200\n",
      "177/177 [==============================] - 1s 5ms/step - loss: 0.3667 - accuracy: 0.8264\n",
      "Epoch 184/200\n",
      "177/177 [==============================] - 1s 5ms/step - loss: 0.3662 - accuracy: 0.8270\n",
      "Epoch 185/200\n",
      "177/177 [==============================] - 1s 5ms/step - loss: 0.3644 - accuracy: 0.8287\n",
      "Epoch 186/200\n",
      "177/177 [==============================] - 1s 5ms/step - loss: 0.3656 - accuracy: 0.8273\n",
      "Epoch 187/200\n",
      "177/177 [==============================] - 1s 5ms/step - loss: 0.3648 - accuracy: 0.8273\n",
      "Epoch 188/200\n",
      "177/177 [==============================] - 1s 4ms/step - loss: 0.3648 - accuracy: 0.8250\n",
      "Epoch 189/200\n",
      "177/177 [==============================] - 1s 5ms/step - loss: 0.3648 - accuracy: 0.8247\n",
      "Epoch 190/200\n",
      "177/177 [==============================] - 1s 5ms/step - loss: 0.3642 - accuracy: 0.8272\n",
      "Epoch 191/200\n",
      "177/177 [==============================] - 1s 5ms/step - loss: 0.3643 - accuracy: 0.8287\n",
      "Epoch 192/200\n",
      "177/177 [==============================] - 1s 5ms/step - loss: 0.3637 - accuracy: 0.8273\n",
      "Epoch 193/200\n",
      "177/177 [==============================] - 1s 5ms/step - loss: 0.3639 - accuracy: 0.8277\n",
      "Epoch 194/200\n",
      "177/177 [==============================] - 1s 5ms/step - loss: 0.3630 - accuracy: 0.8280\n",
      "Epoch 195/200\n",
      "177/177 [==============================] - 1s 5ms/step - loss: 0.3626 - accuracy: 0.8291\n",
      "Epoch 196/200\n",
      "177/177 [==============================] - 1s 5ms/step - loss: 0.3621 - accuracy: 0.8303\n",
      "Epoch 197/200\n",
      "177/177 [==============================] - 1s 5ms/step - loss: 0.3627 - accuracy: 0.8257\n",
      "Epoch 198/200\n",
      "177/177 [==============================] - 1s 5ms/step - loss: 0.3616 - accuracy: 0.8330\n",
      "Epoch 199/200\n",
      "177/177 [==============================] - 1s 5ms/step - loss: 0.3608 - accuracy: 0.8318\n",
      "Epoch 200/200\n",
      "177/177 [==============================] - 1s 5ms/step - loss: 0.3614 - accuracy: 0.8291\n"
     ]
    },
    {
     "data": {
      "text/plain": [
       "<keras.callbacks.History at 0x7f1a8345ed00>"
      ]
     },
     "execution_count": 33,
     "metadata": {},
     "output_type": "execute_result"
    }
   ],
   "source": [
    "model.fit(X_train, y_train, epochs=200, batch_size=32)"
   ]
  },
  {
   "cell_type": "code",
   "execution_count": 34,
   "metadata": {},
   "outputs": [
    {
     "name": "stdout",
     "output_type": "stream",
     "text": [
      "45/45 [==============================] - 0s 2ms/step\n"
     ]
    }
   ],
   "source": [
    "y_hat = model.predict(X_test)\n",
    "y_hat = [0 if val < 0.5 else 1 for val in y_hat]"
   ]
  },
  {
   "cell_type": "code",
   "execution_count": 35,
   "metadata": {},
   "outputs": [
    {
     "data": {
      "text/plain": [
       "0.7899219304471257"
      ]
     },
     "execution_count": 35,
     "metadata": {},
     "output_type": "execute_result"
    }
   ],
   "source": [
    "accuracy_score(y_test, y_hat)"
   ]
  },
  {
   "cell_type": "markdown",
   "metadata": {},
   "source": [
    "# 4. Saving and Reloading"
   ]
  },
  {
   "cell_type": "code",
   "execution_count": null,
   "metadata": {},
   "outputs": [],
   "source": [
    "model.save('tfmodel')"
   ]
  },
  {
   "cell_type": "code",
   "execution_count": null,
   "metadata": {},
   "outputs": [],
   "source": [
    "del model "
   ]
  },
  {
   "cell_type": "code",
   "execution_count": null,
   "metadata": {},
   "outputs": [],
   "source": [
    "model = load_model('tfmodel')"
   ]
  }
 ],
 "metadata": {
  "kernelspec": {
   "display_name": "Python 3",
   "language": "python",
   "name": "python3"
  },
  "language_info": {
   "codemirror_mode": {
    "name": "ipython",
    "version": 3
   },
   "file_extension": ".py",
   "mimetype": "text/x-python",
   "name": "python",
   "nbconvert_exporter": "python",
   "pygments_lexer": "ipython3",
   "version": "3.8.8"
  }
 },
 "nbformat": 4,
 "nbformat_minor": 2
}
